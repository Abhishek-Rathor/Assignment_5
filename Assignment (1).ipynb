{
 "cells": [
  {
   "cell_type": "code",
   "execution_count": null,
   "id": "978425d3-c5be-4408-b39a-dd19fe1482bf",
   "metadata": {},
   "outputs": [],
   "source": [
    "Q1. Which function is used to open a file? \n",
    "What are the different modes of opening a file?\n",
    "Explain each modeof file opening."
   ]
  },
  {
   "cell_type": "code",
   "execution_count": null,
   "id": "90bd358d-5be1-444d-83c5-9d6ee3eac9ea",
   "metadata": {},
   "outputs": [],
   "source": [
    "Ans:- Open() function is used to open a file. There are many modes os open the file \n",
    "Like--> 'w' is used to write a file, 'r' is used to read a file, \n",
    "'b' is used to binary, 'a' is used to append a file etc,"
   ]
  },
  {
   "cell_type": "code",
   "execution_count": null,
   "id": "1c4b00f7-e41d-4d0a-8594-56323bc4bc46",
   "metadata": {},
   "outputs": [],
   "source": [
    "Q2. Why close() function is used? Why is it important to close a file?"
   ]
  },
  {
   "cell_type": "code",
   "execution_count": null,
   "id": "be224b03-c039-4878-9e83-49f489891426",
   "metadata": {},
   "outputs": [],
   "source": [
    "Ans:- When we write some thing in write function but it is not show in text file\n",
    "beacuse the file is not close is one time the file is closed it automatically show in txt file\n",
    "there was a example of this."
   ]
  },
  {
   "cell_type": "code",
   "execution_count": null,
   "id": "dc962bdf-4a92-48a9-b850-c66fb67f155a",
   "metadata": {},
   "outputs": [],
   "source": [
    "Q3. Write a python program to create a text file.\n",
    "Write ‘I want to become a Data Scientist’ in that file. Then\n",
    "close the file. Open this file and read the content of the file."
   ]
  },
  {
   "cell_type": "code",
   "execution_count": 3,
   "id": "a016cf83-d747-4925-99c1-fe5108f023a2",
   "metadata": {},
   "outputs": [],
   "source": [
    "# Ans:-\n",
    "\n",
    "f = open(\"tes3.txt\" , 'w')"
   ]
  },
  {
   "cell_type": "code",
   "execution_count": 4,
   "id": "f4edbfbc-e64e-4a48-925a-430fd661f161",
   "metadata": {},
   "outputs": [
    {
     "data": {
      "text/plain": [
       "33"
      ]
     },
     "execution_count": 4,
     "metadata": {},
     "output_type": "execute_result"
    }
   ],
   "source": [
    "f.write(\"T want to become a Data Scientist\")"
   ]
  },
  {
   "cell_type": "code",
   "execution_count": 5,
   "id": "80186e23-1608-41af-af69-8e2e75bcc1eb",
   "metadata": {},
   "outputs": [],
   "source": [
    "f.close()"
   ]
  },
  {
   "cell_type": "code",
   "execution_count": null,
   "id": "d9939864-f947-4a65-bd61-a14d7e7377c4",
   "metadata": {},
   "outputs": [],
   "source": [
    "Q4. Explain the following with python code: read(), readline() and readlines()."
   ]
  },
  {
   "cell_type": "code",
   "execution_count": null,
   "id": "e6ef26bf-606b-4139-bd5f-7420f9062d80",
   "metadata": {},
   "outputs": [],
   "source": [
    "Ans:- read() retreives all the content at a time , \n",
    "readline() read the one line at a time,\n",
    "readlines() return a list containing all the lines."
   ]
  },
  {
   "cell_type": "code",
   "execution_count": null,
   "id": "cb5b6335-66fb-4fd6-9de4-368234348986",
   "metadata": {},
   "outputs": [],
   "source": [
    "Q5. Explain why with statement is used with open().\n",
    "What is the advantage of using with statement and\n",
    "open() together?"
   ]
  },
  {
   "cell_type": "code",
   "execution_count": null,
   "id": "fa26c8f0-9b69-4b56-999d-4da6c60f28c1",
   "metadata": {},
   "outputs": [],
   "source": [
    "Ans:-With statement closse the file without telling you. The advatage of with statement\n",
    "simplifies the management of common resources like file streams."
   ]
  },
  {
   "cell_type": "code",
   "execution_count": null,
   "id": "48de868c-7e64-4d60-b808-f76577a88169",
   "metadata": {},
   "outputs": [],
   "source": [
    "Q6. Explain the write() and writelines() functions. Give a suitable example."
   ]
  },
  {
   "cell_type": "code",
   "execution_count": null,
   "id": "16fd9729-dc05-4273-8614-f06f326ea7c7",
   "metadata": {},
   "outputs": [],
   "source": [
    "Ans:- write() is used to write a string to an already opened file.\n",
    "writelines() is sued to write a list of string in an opened file."
   ]
  }
 ],
 "metadata": {
  "kernelspec": {
   "display_name": "Python 3 (ipykernel)",
   "language": "python",
   "name": "python3"
  },
  "language_info": {
   "codemirror_mode": {
    "name": "ipython",
    "version": 3
   },
   "file_extension": ".py",
   "mimetype": "text/x-python",
   "name": "python",
   "nbconvert_exporter": "python",
   "pygments_lexer": "ipython3",
   "version": "3.10.8"
  }
 },
 "nbformat": 4,
 "nbformat_minor": 5
}
